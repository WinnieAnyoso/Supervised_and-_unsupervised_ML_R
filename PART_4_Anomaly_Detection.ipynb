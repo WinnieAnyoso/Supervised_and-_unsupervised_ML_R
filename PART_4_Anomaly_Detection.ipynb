{
  "nbformat": 4,
  "nbformat_minor": 0,
  "metadata": {
    "colab": {
      "name": "PART_4_Anomaly_Detection.ipynb",
      "provenance": [],
      "authorship_tag": "ABX9TyOzjrtvSPC8rRXdqNC9XTRu",
      "include_colab_link": true
    },
    "kernelspec": {
      "name": "ir",
      "display_name": "R"
    }
  },
  "cells": [
    {
      "cell_type": "markdown",
      "metadata": {
        "id": "view-in-github",
        "colab_type": "text"
      },
      "source": [
        "<a href=\"https://colab.research.google.com/github/WinnieAnyoso/Supervised_and-_unsupervised_ML_R/blob/master/PART_4_Anomaly_Detection.ipynb\" target=\"_parent\"><img src=\"https://colab.research.google.com/assets/colab-badge.svg\" alt=\"Open In Colab\"/></a>"
      ]
    },
    {
      "cell_type": "code",
      "metadata": {
        "id": "KV_QtMdvZTbw",
        "colab_type": "code",
        "colab": {
          "base_uri": "https://localhost:8080/",
          "height": 176
        },
        "outputId": "057c3c6d-df49-4f07-d155-df9d39bd8c25"
      },
      "source": [
        "\n",
        "data <- read.csv(\"Supermarket_Sales_Forecasting - Sales.csv\")\n",
        "head(data)"
      ],
      "execution_count": 1,
      "outputs": [
        {
          "output_type": "display_data",
          "data": {
            "text/plain": [
              "  Date      Sales   \n",
              "1 1/5/2019  548.9715\n",
              "2 3/8/2019   80.2200\n",
              "3 3/3/2019  340.5255\n",
              "4 1/27/2019 489.0480\n",
              "5 2/8/2019  634.3785\n",
              "6 3/25/2019 627.6165"
            ],
            "text/latex": "A data.frame: 6 × 2\n\\begin{tabular}{r|ll}\n  & Date & Sales\\\\\n  & <fct> & <dbl>\\\\\n\\hline\n\t1 & 1/5/2019  & 548.9715\\\\\n\t2 & 3/8/2019  &  80.2200\\\\\n\t3 & 3/3/2019  & 340.5255\\\\\n\t4 & 1/27/2019 & 489.0480\\\\\n\t5 & 2/8/2019  & 634.3785\\\\\n\t6 & 3/25/2019 & 627.6165\\\\\n\\end{tabular}\n",
            "text/markdown": "\nA data.frame: 6 × 2\n\n| <!--/--> | Date &lt;fct&gt; | Sales &lt;dbl&gt; |\n|---|---|---|\n| 1 | 1/5/2019  | 548.9715 |\n| 2 | 3/8/2019  |  80.2200 |\n| 3 | 3/3/2019  | 340.5255 |\n| 4 | 1/27/2019 | 489.0480 |\n| 5 | 2/8/2019  | 634.3785 |\n| 6 | 3/25/2019 | 627.6165 |\n\n",
            "text/html": [
              "<table>\n",
              "<caption>A data.frame: 6 × 2</caption>\n",
              "<thead>\n",
              "\t<tr><th></th><th scope=col>Date</th><th scope=col>Sales</th></tr>\n",
              "\t<tr><th></th><th scope=col>&lt;fct&gt;</th><th scope=col>&lt;dbl&gt;</th></tr>\n",
              "</thead>\n",
              "<tbody>\n",
              "\t<tr><th scope=row>1</th><td>1/5/2019 </td><td>548.9715</td></tr>\n",
              "\t<tr><th scope=row>2</th><td>3/8/2019 </td><td> 80.2200</td></tr>\n",
              "\t<tr><th scope=row>3</th><td>3/3/2019 </td><td>340.5255</td></tr>\n",
              "\t<tr><th scope=row>4</th><td>1/27/2019</td><td>489.0480</td></tr>\n",
              "\t<tr><th scope=row>5</th><td>2/8/2019 </td><td>634.3785</td></tr>\n",
              "\t<tr><th scope=row>6</th><td>3/25/2019</td><td>627.6165</td></tr>\n",
              "</tbody>\n",
              "</table>\n"
            ]
          },
          "metadata": {
            "tags": []
          }
        }
      ]
    },
    {
      "cell_type": "code",
      "metadata": {
        "id": "gPdmHky7_fQV",
        "colab_type": "code",
        "colab": {
          "base_uri": "https://localhost:8080/",
          "height": 33
        },
        "outputId": "3b788094-cbba-4b7c-d07f-2779dbfa0415"
      },
      "source": [
        "\n",
        "dim(data)"
      ],
      "execution_count": 2,
      "outputs": [
        {
          "output_type": "display_data",
          "data": {
            "text/plain": [
              "[1] 1000    2"
            ],
            "text/latex": "\\begin{enumerate*}\n\\item 1000\n\\item 2\n\\end{enumerate*}\n",
            "text/markdown": "1. 1000\n2. 2\n\n\n",
            "text/html": [
              "<style>\n",
              ".list-inline {list-style: none; margin:0; padding: 0}\n",
              ".list-inline>li {display: inline-block}\n",
              ".list-inline>li:not(:last-child)::after {content: \"\\00b7\"; padding: 0 .5ex}\n",
              "</style>\n",
              "<ol class=list-inline><li>1000</li><li>2</li></ol>\n"
            ]
          },
          "metadata": {
            "tags": []
          }
        }
      ]
    },
    {
      "cell_type": "code",
      "metadata": {
        "id": "6xlq70iP_i5T",
        "colab_type": "code",
        "colab": {
          "base_uri": "https://localhost:8080/",
          "height": 70
        },
        "outputId": "207753ce-0d3d-45c6-b1f8-538fc88e687f"
      },
      "source": [
        "# Checking data structure\n",
        "str(data)"
      ],
      "execution_count": 3,
      "outputs": [
        {
          "output_type": "stream",
          "text": [
            "'data.frame':\t1000 obs. of  2 variables:\n",
            " $ Date : Factor w/ 89 levels \"1/1/2019\",\"1/10/2019\",..: 27 88 82 20 58 77 49 48 2 44 ...\n",
            " $ Sales: num  549 80.2 340.5 489 634.4 ...\n"
          ],
          "name": "stdout"
        }
      ]
    },
    {
      "cell_type": "code",
      "metadata": {
        "id": "iEQa8lM-_nDT",
        "colab_type": "code",
        "colab": {}
      },
      "source": [
        "# Converting sales from a factor to date type\n",
        "data$Date <- as.Date(data$Date, \"%m/%d/%Y\")"
      ],
      "execution_count": 4,
      "outputs": []
    },
    {
      "cell_type": "code",
      "metadata": {
        "id": "OJfMz30W_qgT",
        "colab_type": "code",
        "colab": {
          "base_uri": "https://localhost:8080/",
          "height": 70
        },
        "outputId": "ad537292-661e-4f5f-ac2d-4c04449c710c"
      },
      "source": [
        "\n",
        "# Checking new data structure.\n",
        "str(data)"
      ],
      "execution_count": 5,
      "outputs": [
        {
          "output_type": "stream",
          "text": [
            "'data.frame':\t1000 obs. of  2 variables:\n",
            " $ Date : Date, format: \"2019-01-05\" \"2019-03-08\" ...\n",
            " $ Sales: num  549 80.2 340.5 489 634.4 ...\n"
          ],
          "name": "stdout"
        }
      ]
    },
    {
      "cell_type": "code",
      "metadata": {
        "id": "4mXKxnVY_tFb",
        "colab_type": "code",
        "colab": {
          "base_uri": "https://localhost:8080/",
          "height": 70
        },
        "outputId": "cd575d4e-8332-41d4-863b-35699b88e43a"
      },
      "source": [
        "\n",
        "install.packages(\"ggplot2\")\n",
        "\n",
        "library(ggplot2)"
      ],
      "execution_count": 6,
      "outputs": [
        {
          "output_type": "stream",
          "text": [
            "Installing package into ‘/usr/local/lib/R/site-library’\n",
            "(as ‘lib’ is unspecified)\n",
            "\n"
          ],
          "name": "stderr"
        }
      ]
    },
    {
      "cell_type": "code",
      "metadata": {
        "id": "iR1AWMJ-AT4J",
        "colab_type": "code",
        "colab": {
          "base_uri": "https://localhost:8080/",
          "height": 436
        },
        "outputId": "f5ee8bd9-a4a4-4bb4-a827-1ca1d54b44ac"
      },
      "source": [
        "ggplot(data = data, aes(x = Date, y = Sales)) +\n",
        "      geom_bar(stat = \"identity\", fill = \"pink\") +\n",
        "      labs(title = \"Sales distribution\",\n",
        "           x = \"Date\", y = \"Sales(ksh)\")"
      ],
      "execution_count": 7,
      "outputs": [
        {
          "output_type": "display_data",
          "data": {
            "image/png": "[encoded data removed]",
            "text/plain": [
              "plot without title"
            ]
          },
          "metadata": {
            "tags": [],
            "image/png": {
              "width": 420,
              "height": 420
            }
          }
        }
      ]
    },
    {
      "cell_type": "code",
      "metadata": {
        "id": "71nUXg8aAhIk",
        "colab_type": "code",
        "colab": {
          "base_uri": "https://localhost:8080/",
          "height": 70
        },
        "outputId": "211cf4fe-414a-423a-91e4-2963c12d5256"
      },
      "source": [
        "install.packages(\"tidyverse\")\n"
      ],
      "execution_count": 8,
      "outputs": [
        {
          "output_type": "stream",
          "text": [
            "Installing package into ‘/usr/local/lib/R/site-library’\n",
            "(as ‘lib’ is unspecified)\n",
            "\n"
          ],
          "name": "stderr"
        }
      ]
    },
    {
      "cell_type": "code",
      "metadata": {
        "id": "6XlNkRH-Bg_J",
        "colab_type": "code",
        "colab": {
          "base_uri": "https://localhost:8080/",
          "height": 70
        },
        "outputId": "5c714022-19b7-4e73-e776-5155883c5fe9"
      },
      "source": [
        "install.packages(\"anomalize\")\n"
      ],
      "execution_count": 11,
      "outputs": [
        {
          "output_type": "stream",
          "text": [
            "Installing package into ‘/usr/local/lib/R/site-library’\n",
            "(as ‘lib’ is unspecified)\n",
            "\n"
          ],
          "name": "stderr"
        }
      ]
    },
    {
      "cell_type": "code",
      "metadata": {
        "id": "9qhXE_hZDKtu",
        "colab_type": "code",
        "colab": {}
      },
      "source": [
        "library(tidyverse)\n",
        "library(anomalize)\n",
        "library(tibbletime)"
      ],
      "execution_count": 12,
      "outputs": []
    },
    {
      "cell_type": "code",
      "metadata": {
        "id": "-1LV1Iy2CV0H",
        "colab_type": "code",
        "colab": {
          "base_uri": "https://localhost:8080/",
          "height": 176
        },
        "outputId": "7b6a09ff-ecdd-4cee-a88b-5aa08061351c"
      },
      "source": [
        "\n",
        "#Ordering the data by Date\n",
        "data = data %>% arrange(Date)\n",
        "head(data)"
      ],
      "execution_count": 13,
      "outputs": [
        {
          "output_type": "display_data",
          "data": {
            "text/plain": [
              "  Date       Sales  \n",
              "1 2019-01-01 457.443\n",
              "2 2019-01-01 399.756\n",
              "3 2019-01-01 470.673\n",
              "4 2019-01-01 388.290\n",
              "5 2019-01-01 132.762\n",
              "6 2019-01-01 132.027"
            ],
            "text/latex": "A data.frame: 6 × 2\n\\begin{tabular}{r|ll}\n  & Date & Sales\\\\\n  & <date> & <dbl>\\\\\n\\hline\n\t1 & 2019-01-01 & 457.443\\\\\n\t2 & 2019-01-01 & 399.756\\\\\n\t3 & 2019-01-01 & 470.673\\\\\n\t4 & 2019-01-01 & 388.290\\\\\n\t5 & 2019-01-01 & 132.762\\\\\n\t6 & 2019-01-01 & 132.027\\\\\n\\end{tabular}\n",
            "text/markdown": "\nA data.frame: 6 × 2\n\n| <!--/--> | Date &lt;date&gt; | Sales &lt;dbl&gt; |\n|---|---|---|\n| 1 | 2019-01-01 | 457.443 |\n| 2 | 2019-01-01 | 399.756 |\n| 3 | 2019-01-01 | 470.673 |\n| 4 | 2019-01-01 | 388.290 |\n| 5 | 2019-01-01 | 132.762 |\n| 6 | 2019-01-01 | 132.027 |\n\n",
            "text/html": [
              "<table>\n",
              "<caption>A data.frame: 6 × 2</caption>\n",
              "<thead>\n",
              "\t<tr><th></th><th scope=col>Date</th><th scope=col>Sales</th></tr>\n",
              "\t<tr><th></th><th scope=col>&lt;date&gt;</th><th scope=col>&lt;dbl&gt;</th></tr>\n",
              "</thead>\n",
              "<tbody>\n",
              "\t<tr><th scope=row>1</th><td>2019-01-01</td><td>457.443</td></tr>\n",
              "\t<tr><th scope=row>2</th><td>2019-01-01</td><td>399.756</td></tr>\n",
              "\t<tr><th scope=row>3</th><td>2019-01-01</td><td>470.673</td></tr>\n",
              "\t<tr><th scope=row>4</th><td>2019-01-01</td><td>388.290</td></tr>\n",
              "\t<tr><th scope=row>5</th><td>2019-01-01</td><td>132.762</td></tr>\n",
              "\t<tr><th scope=row>6</th><td>2019-01-01</td><td>132.027</td></tr>\n",
              "</tbody>\n",
              "</table>\n"
            ]
          },
          "metadata": {
            "tags": []
          }
        }
      ]
    },
    {
      "cell_type": "code",
      "metadata": {
        "id": "arGDBpdPCkow",
        "colab_type": "code",
        "colab": {
          "base_uri": "https://localhost:8080/",
          "height": 176
        },
        "outputId": "f173ecc1-161a-4071-96c0-4781ef6834cf"
      },
      "source": [
        "data = aggregate(Sales ~ Date, data, mean)\n",
        "head(data)"
      ],
      "execution_count": 14,
      "outputs": [
        {
          "output_type": "display_data",
          "data": {
            "text/plain": [
              "  Date       Sales   \n",
              "1 2019-01-01 395.4318\n",
              "2 2019-01-02 243.1879\n",
              "3 2019-01-03 259.7661\n",
              "4 2019-01-04 270.6148\n",
              "5 2019-01-05 294.7236\n",
              "6 2019-01-06 401.5783"
            ],
            "text/latex": "A data.frame: 6 × 2\n\\begin{tabular}{r|ll}\n  & Date & Sales\\\\\n  & <date> & <dbl>\\\\\n\\hline\n\t1 & 2019-01-01 & 395.4318\\\\\n\t2 & 2019-01-02 & 243.1879\\\\\n\t3 & 2019-01-03 & 259.7661\\\\\n\t4 & 2019-01-04 & 270.6148\\\\\n\t5 & 2019-01-05 & 294.7236\\\\\n\t6 & 2019-01-06 & 401.5783\\\\\n\\end{tabular}\n",
            "text/markdown": "\nA data.frame: 6 × 2\n\n| <!--/--> | Date &lt;date&gt; | Sales &lt;dbl&gt; |\n|---|---|---|\n| 1 | 2019-01-01 | 395.4318 |\n| 2 | 2019-01-02 | 243.1879 |\n| 3 | 2019-01-03 | 259.7661 |\n| 4 | 2019-01-04 | 270.6148 |\n| 5 | 2019-01-05 | 294.7236 |\n| 6 | 2019-01-06 | 401.5783 |\n\n",
            "text/html": [
              "<table>\n",
              "<caption>A data.frame: 6 × 2</caption>\n",
              "<thead>\n",
              "\t<tr><th></th><th scope=col>Date</th><th scope=col>Sales</th></tr>\n",
              "\t<tr><th></th><th scope=col>&lt;date&gt;</th><th scope=col>&lt;dbl&gt;</th></tr>\n",
              "</thead>\n",
              "<tbody>\n",
              "\t<tr><th scope=row>1</th><td>2019-01-01</td><td>395.4318</td></tr>\n",
              "\t<tr><th scope=row>2</th><td>2019-01-02</td><td>243.1879</td></tr>\n",
              "\t<tr><th scope=row>3</th><td>2019-01-03</td><td>259.7661</td></tr>\n",
              "\t<tr><th scope=row>4</th><td>2019-01-04</td><td>270.6148</td></tr>\n",
              "\t<tr><th scope=row>5</th><td>2019-01-05</td><td>294.7236</td></tr>\n",
              "\t<tr><th scope=row>6</th><td>2019-01-06</td><td>401.5783</td></tr>\n",
              "</tbody>\n",
              "</table>\n"
            ]
          },
          "metadata": {
            "tags": []
          }
        }
      ]
    },
    {
      "cell_type": "code",
      "metadata": {
        "id": "7TgHVWStGSpa",
        "colab_type": "code",
        "colab": {
          "base_uri": "https://localhost:8080/",
          "height": 33
        },
        "outputId": "55eb7ed4-3e27-4940-fee0-72de5866ceb2"
      },
      "source": [
        "data = tbl_time(data, Date)\n",
        "class(data)"
      ],
      "execution_count": 15,
      "outputs": [
        {
          "output_type": "display_data",
          "data": {
            "text/plain": [
              "[1] \"tbl_time\"   \"tbl_df\"     \"tbl\"        \"data.frame\""
            ],
            "text/latex": "\\begin{enumerate*}\n\\item 'tbl\\_time'\n\\item 'tbl\\_df'\n\\item 'tbl'\n\\item 'data.frame'\n\\end{enumerate*}\n",
            "text/markdown": "1. 'tbl_time'\n2. 'tbl_df'\n3. 'tbl'\n4. 'data.frame'\n\n\n",
            "text/html": [
              "<style>\n",
              ".list-inline {list-style: none; margin:0; padding: 0}\n",
              ".list-inline>li {display: inline-block}\n",
              ".list-inline>li:not(:last-child)::after {content: \"\\00b7\"; padding: 0 .5ex}\n",
              "</style>\n",
              "<ol class=list-inline><li>'tbl_time'</li><li>'tbl_df'</li><li>'tbl'</li><li>'data.frame'</li></ol>\n"
            ]
          },
          "metadata": {
            "tags": []
          }
        }
      ]
    },
    {
      "cell_type": "code",
      "metadata": {
        "id": "g6HfFoMWGWA3",
        "colab_type": "code",
        "colab": {
          "base_uri": "https://localhost:8080/",
          "height": 578
        },
        "outputId": "78977597-2071-4759-ffc2-347df09aecfa"
      },
      "source": [
        "data %>%\n",
        "    time_decompose(Sales) %>%\n",
        "    anomalize(remainder) %>%\n",
        "    time_recompose() %>%\n",
        "    plot_anomalies(time_recomposed = TRUE, ncol = 3, alpha_dots = 0.5)"
      ],
      "execution_count": 16,
      "outputs": [
        {
          "output_type": "stream",
          "text": [
            "frequency = 7 days\n",
            "\n",
            "trend = 30 days\n",
            "\n",
            "Registered S3 method overwritten by 'quantmod':\n",
            "  method            from\n",
            "  as.zoo.data.frame zoo \n",
            "\n"
          ],
          "name": "stderr"
        },
        {
          "output_type": "display_data",
          "data": {
            "image/png": "[encoded data removed]",
            "text/plain": [
              "plot without title"
            ]
          },
          "metadata": {
            "tags": [],
            "image/png": {
              "width": 420,
              "height": 420
            }
          }
        }
      ]
    },
    {
      "cell_type": "code",
      "metadata": {
        "id": "VCLLstf-Gb6X",
        "colab_type": "code",
        "colab": {}
      },
      "source": [
        ""
      ],
      "execution_count": null,
      "outputs": []
    }
  ]
}