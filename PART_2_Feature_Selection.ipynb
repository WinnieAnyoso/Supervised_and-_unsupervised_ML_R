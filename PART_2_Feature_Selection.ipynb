{
  "nbformat": 4,
  "nbformat_minor": 0,
  "metadata": {
    "colab": {
      "name": "PART_2_Feature_Selection.ipynb",
      "provenance": [],
      "authorship_tag": "ABX9TyMhi0Mrke5RbZZnK1qAkk4e",
      "include_colab_link": true
    },
    "kernelspec": {
      "name": "ir",
      "display_name": "R"
    }
  },
  "cells": [
    {
      "cell_type": "markdown",
      "metadata": {
        "id": "view-in-github",
        "colab_type": "text"
      },
      "source": [
        "<a href=\"https://colab.research.google.com/github/WinnieAnyoso/Supervised_and-_unsupervised_ML_R/blob/master/PART_2_Feature_Selection.ipynb\" target=\"_parent\"><img src=\"https://colab.research.google.com/assets/colab-badge.svg\" alt=\"Open In Colab\"/></a>"
      ]
    },
    {
      "cell_type": "code",
      "metadata": {
        "id": "KV_QtMdvZTbw",
        "colab_type": "code",
        "colab": {
          "base_uri": "https://localhost:8080/",
          "height": 296
        },
        "outputId": "252829e3-acbe-414e-a6bb-f4a02694fe28"
      },
      "source": [
        "# Load dataset\n",
        "super <- read.csv(\"Supermarket_Dataset_1 - Sales Data.csv\")\n",
        "head(super)"
      ],
      "execution_count": 1,
      "outputs": [
        {
          "output_type": "display_data",
          "data": {
            "text/plain": [
              "  Invoice.ID  Branch Customer.type Gender Product.line           Unit.price\n",
              "1 750-67-8428 A      Member        Female Health and beauty      74.69     \n",
              "2 226-31-3081 C      Normal        Female Electronic accessories 15.28     \n",
              "3 631-41-3108 A      Normal        Male   Home and lifestyle     46.33     \n",
              "4 123-19-1176 A      Member        Male   Health and beauty      58.22     \n",
              "5 373-73-7910 A      Normal        Male   Sports and travel      86.31     \n",
              "6 699-14-3026 C      Normal        Male   Electronic accessories 85.39     \n",
              "  Quantity Tax     Date      Time  Payment     cogs   gross.margin.percentage\n",
              "1 7        26.1415 1/5/2019  13:08 Ewallet     522.83 4.761905               \n",
              "2 5         3.8200 3/8/2019  10:29 Cash         76.40 4.761905               \n",
              "3 7        16.2155 3/3/2019  13:23 Credit card 324.31 4.761905               \n",
              "4 8        23.2880 1/27/2019 20:33 Ewallet     465.76 4.761905               \n",
              "5 7        30.2085 2/8/2019  10:37 Ewallet     604.17 4.761905               \n",
              "6 7        29.8865 3/25/2019 18:30 Ewallet     597.73 4.761905               \n",
              "  gross.income Rating Total   \n",
              "1 26.1415      9.1    548.9715\n",
              "2  3.8200      9.6     80.2200\n",
              "3 16.2155      7.4    340.5255\n",
              "4 23.2880      8.4    489.0480\n",
              "5 30.2085      5.3    634.3785\n",
              "6 29.8865      4.1    627.6165"
            ],
            "text/latex": "A data.frame: 6 × 16\n\\begin{tabular}{r|llllllllllllllll}\n  & Invoice.ID & Branch & Customer.type & Gender & Product.line & Unit.price & Quantity & Tax & Date & Time & Payment & cogs & gross.margin.percentage & gross.income & Rating & Total\\\\\n  & <fct> & <fct> & <fct> & <fct> & <fct> & <dbl> & <int> & <dbl> & <fct> & <fct> & <fct> & <dbl> & <dbl> & <dbl> & <dbl> & <dbl>\\\\\n\\hline\n\t1 & 750-67-8428 & A & Member & Female & Health and beauty      & 74.69 & 7 & 26.1415 & 1/5/2019  & 13:08 & Ewallet     & 522.83 & 4.761905 & 26.1415 & 9.1 & 548.9715\\\\\n\t2 & 226-31-3081 & C & Normal & Female & Electronic accessories & 15.28 & 5 &  3.8200 & 3/8/2019  & 10:29 & Cash        &  76.40 & 4.761905 &  3.8200 & 9.6 &  80.2200\\\\\n\t3 & 631-41-3108 & A & Normal & Male   & Home and lifestyle     & 46.33 & 7 & 16.2155 & 3/3/2019  & 13:23 & Credit card & 324.31 & 4.761905 & 16.2155 & 7.4 & 340.5255\\\\\n\t4 & 123-19-1176 & A & Member & Male   & Health and beauty      & 58.22 & 8 & 23.2880 & 1/27/2019 & 20:33 & Ewallet     & 465.76 & 4.761905 & 23.2880 & 8.4 & 489.0480\\\\\n\t5 & 373-73-7910 & A & Normal & Male   & Sports and travel      & 86.31 & 7 & 30.2085 & 2/8/2019  & 10:37 & Ewallet     & 604.17 & 4.761905 & 30.2085 & 5.3 & 634.3785\\\\\n\t6 & 699-14-3026 & C & Normal & Male   & Electronic accessories & 85.39 & 7 & 29.8865 & 3/25/2019 & 18:30 & Ewallet     & 597.73 & 4.761905 & 29.8865 & 4.1 & 627.6165\\\\\n\\end{tabular}\n",
            "text/markdown": "\nA data.frame: 6 × 16\n\n| <!--/--> | Invoice.ID &lt;fct&gt; | Branch &lt;fct&gt; | Customer.type &lt;fct&gt; | Gender &lt;fct&gt; | Product.line &lt;fct&gt; | Unit.price &lt;dbl&gt; | Quantity &lt;int&gt; | Tax &lt;dbl&gt; | Date &lt;fct&gt; | Time &lt;fct&gt; | Payment &lt;fct&gt; | cogs &lt;dbl&gt; | gross.margin.percentage &lt;dbl&gt; | gross.income &lt;dbl&gt; | Rating &lt;dbl&gt; | Total &lt;dbl&gt; |\n|---|---|---|---|---|---|---|---|---|---|---|---|---|---|---|---|---|\n| 1 | 750-67-8428 | A | Member | Female | Health and beauty      | 74.69 | 7 | 26.1415 | 1/5/2019  | 13:08 | Ewallet     | 522.83 | 4.761905 | 26.1415 | 9.1 | 548.9715 |\n| 2 | 226-31-3081 | C | Normal | Female | Electronic accessories | 15.28 | 5 |  3.8200 | 3/8/2019  | 10:29 | Cash        |  76.40 | 4.761905 |  3.8200 | 9.6 |  80.2200 |\n| 3 | 631-41-3108 | A | Normal | Male   | Home and lifestyle     | 46.33 | 7 | 16.2155 | 3/3/2019  | 13:23 | Credit card | 324.31 | 4.761905 | 16.2155 | 7.4 | 340.5255 |\n| 4 | 123-19-1176 | A | Member | Male   | Health and beauty      | 58.22 | 8 | 23.2880 | 1/27/2019 | 20:33 | Ewallet     | 465.76 | 4.761905 | 23.2880 | 8.4 | 489.0480 |\n| 5 | 373-73-7910 | A | Normal | Male   | Sports and travel      | 86.31 | 7 | 30.2085 | 2/8/2019  | 10:37 | Ewallet     | 604.17 | 4.761905 | 30.2085 | 5.3 | 634.3785 |\n| 6 | 699-14-3026 | C | Normal | Male   | Electronic accessories | 85.39 | 7 | 29.8865 | 3/25/2019 | 18:30 | Ewallet     | 597.73 | 4.761905 | 29.8865 | 4.1 | 627.6165 |\n\n",
            "text/html": [
              "<table>\n",
              "<caption>A data.frame: 6 × 16</caption>\n",
              "<thead>\n",
              "\t<tr><th></th><th scope=col>Invoice.ID</th><th scope=col>Branch</th><th scope=col>Customer.type</th><th scope=col>Gender</th><th scope=col>Product.line</th><th scope=col>Unit.price</th><th scope=col>Quantity</th><th scope=col>Tax</th><th scope=col>Date</th><th scope=col>Time</th><th scope=col>Payment</th><th scope=col>cogs</th><th scope=col>gross.margin.percentage</th><th scope=col>gross.income</th><th scope=col>Rating</th><th scope=col>Total</th></tr>\n",
              "\t<tr><th></th><th scope=col>&lt;fct&gt;</th><th scope=col>&lt;fct&gt;</th><th scope=col>&lt;fct&gt;</th><th scope=col>&lt;fct&gt;</th><th scope=col>&lt;fct&gt;</th><th scope=col>&lt;dbl&gt;</th><th scope=col>&lt;int&gt;</th><th scope=col>&lt;dbl&gt;</th><th scope=col>&lt;fct&gt;</th><th scope=col>&lt;fct&gt;</th><th scope=col>&lt;fct&gt;</th><th scope=col>&lt;dbl&gt;</th><th scope=col>&lt;dbl&gt;</th><th scope=col>&lt;dbl&gt;</th><th scope=col>&lt;dbl&gt;</th><th scope=col>&lt;dbl&gt;</th></tr>\n",
              "</thead>\n",
              "<tbody>\n",
              "\t<tr><th scope=row>1</th><td>750-67-8428</td><td>A</td><td>Member</td><td>Female</td><td>Health and beauty     </td><td>74.69</td><td>7</td><td>26.1415</td><td>1/5/2019 </td><td>13:08</td><td>Ewallet    </td><td>522.83</td><td>4.761905</td><td>26.1415</td><td>9.1</td><td>548.9715</td></tr>\n",
              "\t<tr><th scope=row>2</th><td>226-31-3081</td><td>C</td><td>Normal</td><td>Female</td><td>Electronic accessories</td><td>15.28</td><td>5</td><td> 3.8200</td><td>3/8/2019 </td><td>10:29</td><td>Cash       </td><td> 76.40</td><td>4.761905</td><td> 3.8200</td><td>9.6</td><td> 80.2200</td></tr>\n",
              "\t<tr><th scope=row>3</th><td>631-41-3108</td><td>A</td><td>Normal</td><td>Male  </td><td>Home and lifestyle    </td><td>46.33</td><td>7</td><td>16.2155</td><td>3/3/2019 </td><td>13:23</td><td>Credit card</td><td>324.31</td><td>4.761905</td><td>16.2155</td><td>7.4</td><td>340.5255</td></tr>\n",
              "\t<tr><th scope=row>4</th><td>123-19-1176</td><td>A</td><td>Member</td><td>Male  </td><td>Health and beauty     </td><td>58.22</td><td>8</td><td>23.2880</td><td>1/27/2019</td><td>20:33</td><td>Ewallet    </td><td>465.76</td><td>4.761905</td><td>23.2880</td><td>8.4</td><td>489.0480</td></tr>\n",
              "\t<tr><th scope=row>5</th><td>373-73-7910</td><td>A</td><td>Normal</td><td>Male  </td><td>Sports and travel     </td><td>86.31</td><td>7</td><td>30.2085</td><td>2/8/2019 </td><td>10:37</td><td>Ewallet    </td><td>604.17</td><td>4.761905</td><td>30.2085</td><td>5.3</td><td>634.3785</td></tr>\n",
              "\t<tr><th scope=row>6</th><td>699-14-3026</td><td>C</td><td>Normal</td><td>Male  </td><td>Electronic accessories</td><td>85.39</td><td>7</td><td>29.8865</td><td>3/25/2019</td><td>18:30</td><td>Ewallet    </td><td>597.73</td><td>4.761905</td><td>29.8865</td><td>4.1</td><td>627.6165</td></tr>\n",
              "</tbody>\n",
              "</table>\n"
            ]
          },
          "metadata": {
            "tags": []
          }
        }
      ]
    },
    {
      "cell_type": "code",
      "metadata": {
        "id": "Y6W0HrO9k9wi",
        "colab_type": "code",
        "colab": {
          "base_uri": "https://localhost:8080/",
          "height": 318
        },
        "outputId": "f38127f4-4fe1-4ec3-81d7-eb34d3c7d59d"
      },
      "source": [
        "str(super)"
      ],
      "execution_count": 2,
      "outputs": [
        {
          "output_type": "stream",
          "text": [
            "'data.frame':\t1000 obs. of  16 variables:\n",
            " $ Invoice.ID             : Factor w/ 1000 levels \"101-17-6199\",..: 815 143 654 19 340 734 316 265 703 727 ...\n",
            " $ Branch                 : Factor w/ 3 levels \"A\",\"B\",\"C\": 1 3 1 1 1 3 1 3 1 2 ...\n",
            " $ Customer.type          : Factor w/ 2 levels \"Member\",\"Normal\": 1 2 2 1 2 2 1 2 1 1 ...\n",
            " $ Gender                 : Factor w/ 2 levels \"Female\",\"Male\": 1 1 2 2 2 2 1 1 1 1 ...\n",
            " $ Product.line           : Factor w/ 6 levels \"Electronic accessories\",..: 4 1 5 4 6 1 1 5 4 3 ...\n",
            " $ Unit.price             : num  74.7 15.3 46.3 58.2 86.3 ...\n",
            " $ Quantity               : int  7 5 7 8 7 7 6 10 2 3 ...\n",
            " $ Tax                    : num  26.14 3.82 16.22 23.29 30.21 ...\n",
            " $ Date                   : Factor w/ 89 levels \"1/1/2019\",\"1/10/2019\",..: 27 88 82 20 58 77 49 48 2 44 ...\n",
            " $ Time                   : Factor w/ 506 levels \"10:00\",\"10:01\",..: 147 24 156 486 30 394 215 78 342 160 ...\n",
            " $ Payment                : Factor w/ 3 levels \"Cash\",\"Credit card\",..: 3 1 2 3 3 3 3 3 2 2 ...\n",
            " $ cogs                   : num  522.8 76.4 324.3 465.8 604.2 ...\n",
            " $ gross.margin.percentage: num  4.76 4.76 4.76 4.76 4.76 ...\n",
            " $ gross.income           : num  26.14 3.82 16.22 23.29 30.21 ...\n",
            " $ Rating                 : num  9.1 9.6 7.4 8.4 5.3 4.1 5.8 8 7.2 5.9 ...\n",
            " $ Total                  : num  549 80.2 340.5 489 634.4 ...\n"
          ],
          "name": "stdout"
        }
      ]
    },
    {
      "cell_type": "code",
      "metadata": {
        "id": "SVsjWc_elI58",
        "colab_type": "code",
        "colab": {
          "base_uri": "https://localhost:8080/",
          "height": 33
        },
        "outputId": "53e4d222-fc78-4fee-eba5-f7cc03210042"
      },
      "source": [
        "# DImension of the dataset\n",
        "dim(super)\n"
      ],
      "execution_count": 3,
      "outputs": [
        {
          "output_type": "display_data",
          "data": {
            "text/plain": [
              "[1] 1000   16"
            ],
            "text/latex": "\\begin{enumerate*}\n\\item 1000\n\\item 16\n\\end{enumerate*}\n",
            "text/markdown": "1. 1000\n2. 16\n\n\n",
            "text/html": [
              "<style>\n",
              ".list-inline {list-style: none; margin:0; padding: 0}\n",
              ".list-inline>li {display: inline-block}\n",
              ".list-inline>li:not(:last-child)::after {content: \"\\00b7\"; padding: 0 .5ex}\n",
              "</style>\n",
              "<ol class=list-inline><li>1000</li><li>16</li></ol>\n"
            ]
          },
          "metadata": {
            "tags": []
          }
        }
      ]
    },
    {
      "cell_type": "code",
      "metadata": {
        "id": "HQr_KgaJlMaT",
        "colab_type": "code",
        "colab": {}
      },
      "source": [
        "# Change datatypes to the correct ones:\n",
        "\n",
        "# To Numeric datatype\n",
        "g = c('Branch', 'Gender','Customer.type', 'Product.line', 'Payment')\n",
        "for (i in g){\n",
        "    super[,i] = as.numeric(super[,i])\n",
        "}"
      ],
      "execution_count": 4,
      "outputs": []
    },
    {
      "cell_type": "code",
      "metadata": {
        "id": "amvw5QTvoE1C",
        "colab_type": "code",
        "colab": {
          "base_uri": "https://localhost:8080/",
          "height": 318
        },
        "outputId": "8f36f0d6-e397-4e99-9811-04604cf35540"
      },
      "source": [
        "install.packages(\"dplyr\")\n",
        "library(dplyr)"
      ],
      "execution_count": 8,
      "outputs": [
        {
          "output_type": "stream",
          "text": [
            "Installing package into ‘/usr/local/lib/R/site-library’\n",
            "(as ‘lib’ is unspecified)\n",
            "\n",
            "\n",
            "Attaching package: ‘dplyr’\n",
            "\n",
            "\n",
            "The following objects are masked from ‘package:stats’:\n",
            "\n",
            "    filter, lag\n",
            "\n",
            "\n",
            "The following objects are masked from ‘package:base’:\n",
            "\n",
            "    intersect, setdiff, setequal, union\n",
            "\n",
            "\n"
          ],
          "name": "stderr"
        }
      ]
    },
    {
      "cell_type": "code",
      "metadata": {
        "id": "-goS2vLIlTeS",
        "colab_type": "code",
        "colab": {}
      },
      "source": [
        "# Add a sales column\n",
        "super <- super %>% mutate(Sales = Tax+Total)"
      ],
      "execution_count": 9,
      "outputs": []
    },
    {
      "cell_type": "code",
      "metadata": {
        "id": "XtFogKCwoCKy",
        "colab_type": "code",
        "colab": {
          "base_uri": "https://localhost:8080/",
          "height": 50
        },
        "outputId": "bf08f485-078a-4c81-a3dc-cd6b26ca42d9"
      },
      "source": [
        "# Dropping Unnecessary columns \n",
        "super = super[,c(-1,-9,-10)]\n",
        "names(super)"
      ],
      "execution_count": 10,
      "outputs": [
        {
          "output_type": "display_data",
          "data": {
            "text/plain": [
              " [1] \"Branch\"                  \"Customer.type\"          \n",
              " [3] \"Gender\"                  \"Product.line\"           \n",
              " [5] \"Unit.price\"              \"Quantity\"               \n",
              " [7] \"Tax\"                     \"Payment\"                \n",
              " [9] \"cogs\"                    \"gross.margin.percentage\"\n",
              "[11] \"gross.income\"            \"Rating\"                 \n",
              "[13] \"Total\"                   \"Sales\"                  "
            ],
            "text/latex": "\\begin{enumerate*}\n\\item 'Branch'\n\\item 'Customer.type'\n\\item 'Gender'\n\\item 'Product.line'\n\\item 'Unit.price'\n\\item 'Quantity'\n\\item 'Tax'\n\\item 'Payment'\n\\item 'cogs'\n\\item 'gross.margin.percentage'\n\\item 'gross.income'\n\\item 'Rating'\n\\item 'Total'\n\\item 'Sales'\n\\end{enumerate*}\n",
            "text/markdown": "1. 'Branch'\n2. 'Customer.type'\n3. 'Gender'\n4. 'Product.line'\n5. 'Unit.price'\n6. 'Quantity'\n7. 'Tax'\n8. 'Payment'\n9. 'cogs'\n10. 'gross.margin.percentage'\n11. 'gross.income'\n12. 'Rating'\n13. 'Total'\n14. 'Sales'\n\n\n",
            "text/html": [
              "<style>\n",
              ".list-inline {list-style: none; margin:0; padding: 0}\n",
              ".list-inline>li {display: inline-block}\n",
              ".list-inline>li:not(:last-child)::after {content: \"\\00b7\"; padding: 0 .5ex}\n",
              "</style>\n",
              "<ol class=list-inline><li>'Branch'</li><li>'Customer.type'</li><li>'Gender'</li><li>'Product.line'</li><li>'Unit.price'</li><li>'Quantity'</li><li>'Tax'</li><li>'Payment'</li><li>'cogs'</li><li>'gross.margin.percentage'</li><li>'gross.income'</li><li>'Rating'</li><li>'Total'</li><li>'Sales'</li></ol>\n"
            ]
          },
          "metadata": {
            "tags": []
          }
        }
      ]
    },
    {
      "cell_type": "markdown",
      "metadata": {
        "id": "fgSx1q4Do6B5",
        "colab_type": "text"
      },
      "source": [
        "Feature selection"
      ]
    },
    {
      "cell_type": "code",
      "metadata": {
        "id": "d8JEKRVl1sr2",
        "colab_type": "code",
        "colab": {
          "base_uri": "https://localhost:8080/",
          "height": 70
        },
        "outputId": "b768f76b-3a80-4174-dbc5-fd3b0dfb5d34"
      },
      "source": [
        "install.packages(\"corrplot\")"
      ],
      "execution_count": 11,
      "outputs": [
        {
          "output_type": "stream",
          "text": [
            "Installing package into ‘/usr/local/lib/R/site-library’\n",
            "(as ‘lib’ is unspecified)\n",
            "\n"
          ],
          "name": "stderr"
        }
      ]
    },
    {
      "cell_type": "code",
      "metadata": {
        "id": "HMyzp3Cl1xDc",
        "colab_type": "code",
        "colab": {
          "base_uri": "https://localhost:8080/",
          "height": 143
        },
        "outputId": "5583e3ed-2e55-4f04-d972-564146c66fcd"
      },
      "source": [
        "install.packages(\"caret\")"
      ],
      "execution_count": 12,
      "outputs": [
        {
          "output_type": "stream",
          "text": [
            "Installing package into ‘/usr/local/lib/R/site-library’\n",
            "(as ‘lib’ is unspecified)\n",
            "\n",
            "also installing the dependencies ‘numDeriv’, ‘SQUAREM’, ‘lava’, ‘prodlim’, ‘iterators’, ‘data.table’, ‘gower’, ‘ipred’, ‘timeDate’, ‘foreach’, ‘plyr’, ‘ModelMetrics’, ‘reshape2’, ‘recipes’, ‘pROC’\n",
            "\n",
            "\n"
          ],
          "name": "stderr"
        }
      ]
    },
    {
      "cell_type": "code",
      "metadata": {
        "id": "LkZ0N7X3o0vE",
        "colab_type": "code",
        "colab": {
          "base_uri": "https://localhost:8080/",
          "height": 123
        },
        "outputId": "8de2fc5d-9011-4611-bfb1-8dd21c5a4d09"
      },
      "source": [
        "\n",
        "# Loading the corrplot package for plotting\n",
        "# ---\n",
        "library(corrplot)\n",
        "library(caret)"
      ],
      "execution_count": 13,
      "outputs": [
        {
          "output_type": "stream",
          "text": [
            "corrplot 0.84 loaded\n",
            "\n",
            "Loading required package: lattice\n",
            "\n",
            "Loading required package: ggplot2\n",
            "\n"
          ],
          "name": "stderr"
        }
      ]
    },
    {
      "cell_type": "code",
      "metadata": {
        "id": "Dr1TgrRO3op4",
        "colab_type": "code",
        "colab": {}
      },
      "source": [
        "\n",
        "# Remove columns with standard deviation of zero\n",
        "super.num <- super[, sapply(super, is.numeric)]\n",
        "\n",
        "super.num <- super.num[, !sapply(super.num, function(x) { sd(x) == 0} )]"
      ],
      "execution_count": 16,
      "outputs": []
    },
    {
      "cell_type": "code",
      "metadata": {
        "id": "TgGJLV0032ib",
        "colab_type": "code",
        "colab": {}
      },
      "source": [
        "correlationMatrix <- cor(super.num)"
      ],
      "execution_count": 18,
      "outputs": []
    },
    {
      "cell_type": "code",
      "metadata": {
        "id": "xWKazdsZ4JvD",
        "colab_type": "code",
        "colab": {}
      },
      "source": [
        "highCorr <- findCorrelation(correlationMatrix, cutoff=0.75)"
      ],
      "execution_count": 19,
      "outputs": []
    },
    {
      "cell_type": "code",
      "metadata": {
        "id": "5rShhMZC4W9L",
        "colab_type": "code",
        "colab": {
          "base_uri": "https://localhost:8080/",
          "height": 50
        },
        "outputId": "2567d9b2-8755-44da-fd04-e7e25e914b2f"
      },
      "source": [
        "highCorr\n",
        "names(super.num[,highCorr])"
      ],
      "execution_count": 22,
      "outputs": [
        {
          "output_type": "display_data",
          "data": {
            "text/plain": [
              "[1]  9 12  7 10"
            ],
            "text/latex": "\\begin{enumerate*}\n\\item 9\n\\item 12\n\\item 7\n\\item 10\n\\end{enumerate*}\n",
            "text/markdown": "1. 9\n2. 12\n3. 7\n4. 10\n\n\n",
            "text/html": [
              "<style>\n",
              ".list-inline {list-style: none; margin:0; padding: 0}\n",
              ".list-inline>li {display: inline-block}\n",
              ".list-inline>li:not(:last-child)::after {content: \"\\00b7\"; padding: 0 .5ex}\n",
              "</style>\n",
              "<ol class=list-inline><li>9</li><li>12</li><li>7</li><li>10</li></ol>\n"
            ]
          },
          "metadata": {
            "tags": []
          }
        },
        {
          "output_type": "display_data",
          "data": {
            "text/plain": [
              "[1] \"cogs\"         \"Total\"        \"Tax\"          \"gross.income\""
            ],
            "text/latex": "\\begin{enumerate*}\n\\item 'cogs'\n\\item 'Total'\n\\item 'Tax'\n\\item 'gross.income'\n\\end{enumerate*}\n",
            "text/markdown": "1. 'cogs'\n2. 'Total'\n3. 'Tax'\n4. 'gross.income'\n\n\n",
            "text/html": [
              "<style>\n",
              ".list-inline {list-style: none; margin:0; padding: 0}\n",
              ".list-inline>li {display: inline-block}\n",
              ".list-inline>li:not(:last-child)::after {content: \"\\00b7\"; padding: 0 .5ex}\n",
              "</style>\n",
              "<ol class=list-inline><li>'cogs'</li><li>'Total'</li><li>'Tax'</li><li>'gross.income'</li></ol>\n"
            ]
          },
          "metadata": {
            "tags": []
          }
        }
      ]
    },
    {
      "cell_type": "code",
      "metadata": {
        "id": "lMW0hnHX4cy6",
        "colab_type": "code",
        "colab": {
          "base_uri": "https://localhost:8080/",
          "height": 436
        },
        "outputId": "773a6643-e316-4200-d799-0bc4b0eec4b3"
      },
      "source": [
        "par(mfrow = c(1, 2))\n",
        "corrplot(correlationMatrix,type = \"upper\", order = \"hclust\", tl.col = \"black\", tl.srt = 100)"
      ],
      "execution_count": 30,
      "outputs": [
        {
          "output_type": "display_data",
          "data": {
            "image/png": "[encoded data removed]",
            "text/plain": [
              "Plot with title “”"
            ]
          },
          "metadata": {
            "tags": [],
            "image/png": {
              "width": 420,
              "height": 420
            }
          }
        }
      ]
    },
    {
      "cell_type": "code",
      "metadata": {
        "id": "69REUH5o7A8O",
        "colab_type": "code",
        "colab": {}
      },
      "source": [
        ""
      ],
      "execution_count": null,
      "outputs": []
    }
  ]
}