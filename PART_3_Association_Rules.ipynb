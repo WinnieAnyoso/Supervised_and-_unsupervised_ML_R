{
  "nbformat": 4,
  "nbformat_minor": 0,
  "metadata": {
    "colab": {
      "name": "PART_3_Association_Rules.ipynb",
      "provenance": [],
      "authorship_tag": "ABX9TyOD4AblT4C+QMHOx4JKmaon",
      "include_colab_link": true
    },
    "kernelspec": {
      "name": "ir",
      "display_name": "R"
    }
  },
  "cells": [
    {
      "cell_type": "markdown",
      "metadata": {
        "id": "view-in-github",
        "colab_type": "text"
      },
      "source": [
        "<a href=\"https://colab.research.google.com/github/WinnieAnyoso/Supervised_and-_unsupervised_ML_R/blob/master/PART_3_Association_Rules.ipynb\" target=\"_parent\"><img src=\"https://colab.research.google.com/assets/colab-badge.svg\" alt=\"Open In Colab\"/></a>"
      ]
    },
    {
      "cell_type": "code",
      "metadata": {
        "id": "UmkK8YxbrZ_O",
        "colab_type": "code",
        "colab": {
          "base_uri": "https://localhost:8080/",
          "height": 265
        },
        "outputId": "96af933f-f1e2-441b-870f-3443f7340692"
      },
      "source": [
        "install.packages(\"arules\")\n",
        "# Loading the arules library\n",
        "#\n",
        "library(arules)"
      ],
      "execution_count": 2,
      "outputs": [
        {
          "output_type": "stream",
          "text": [
            "Installing package into ‘/usr/local/lib/R/site-library’\n",
            "(as ‘lib’ is unspecified)\n",
            "\n",
            "Loading required package: Matrix\n",
            "\n",
            "\n",
            "Attaching package: ‘arules’\n",
            "\n",
            "\n",
            "The following objects are masked from ‘package:base’:\n",
            "\n",
            "    abbreviate, write\n",
            "\n",
            "\n"
          ],
          "name": "stderr"
        }
      ]
    },
    {
      "cell_type": "code",
      "metadata": {
        "id": "KV_QtMdvZTbw",
        "colab_type": "code",
        "colab": {
          "base_uri": "https://localhost:8080/",
          "height": 105
        },
        "outputId": "1fc4d280-7b55-4fc4-a916-12975fd88609"
      },
      "source": [
        "Transactions <- read.transactions(\"Supermarket_Sales_Dataset II.csv\")\n",
        "Transactions"
      ],
      "execution_count": 8,
      "outputs": [
        {
          "output_type": "stream",
          "text": [
            "Warning message in asMethod(object):\n",
            "“removing duplicated items in transactions”\n"
          ],
          "name": "stderr"
        },
        {
          "output_type": "display_data",
          "data": {
            "text/plain": [
              "transactions in sparse format with\n",
              " 7501 transactions (rows) and\n",
              " 5729 items (columns)"
            ]
          },
          "metadata": {
            "tags": []
          }
        }
      ]
    },
    {
      "cell_type": "code",
      "metadata": {
        "id": "Dhj9Q8XHruPU",
        "colab_type": "code",
        "colab": {
          "base_uri": "https://localhost:8080/",
          "height": 33
        },
        "outputId": "6b508ec8-2a09-4816-e643-5b77dd94bca6"
      },
      "source": [
        "class(Transactions)"
      ],
      "execution_count": 9,
      "outputs": [
        {
          "output_type": "display_data",
          "data": {
            "text/plain": [
              "[1] \"transactions\"\n",
              "attr(,\"package\")\n",
              "[1] \"arules\""
            ],
            "text/latex": "'transactions'",
            "text/markdown": "'transactions'",
            "text/html": [
              "'transactions'"
            ]
          },
          "metadata": {
            "tags": []
          }
        }
      ]
    },
    {
      "cell_type": "code",
      "metadata": {
        "id": "kRN2j2ltsJSJ",
        "colab_type": "code",
        "colab": {
          "base_uri": "https://localhost:8080/",
          "height": 461
        },
        "outputId": "b3a974b8-539b-4c26-b70e-6b3ad378a140"
      },
      "source": [
        "inspect(Transactions[1:5])"
      ],
      "execution_count": 10,
      "outputs": [
        {
          "output_type": "stream",
          "text": [
            "    items                              \n",
            "[1] {cheese,energy,                    \n",
            "     drink,tomato,                     \n",
            "     fat,                              \n",
            "     flour,yams,cottage,               \n",
            "     grapes,whole,                     \n",
            "     juice,frozen,                     \n",
            "     juice,low,                        \n",
            "     mix,green,                        \n",
            "     oil,                              \n",
            "     shrimp,almonds,avocado,vegetables,\n",
            "     smoothie,spinach,olive,           \n",
            "     tea,honey,salad,mineral,          \n",
            "     water,salmon,antioxydant,         \n",
            "     weat,                             \n",
            "     yogurt,green}                     \n",
            "[2] {burgers,meatballs,eggs}           \n",
            "[3] {chutney}                          \n",
            "[4] {turkey,avocado}                   \n",
            "[5] {bar,whole,                        \n",
            "     mineral,                          \n",
            "     rice,green,                       \n",
            "     tea,                              \n",
            "     water,milk,energy,                \n",
            "     wheat}                            \n"
          ],
          "name": "stdout"
        }
      ]
    },
    {
      "cell_type": "code",
      "metadata": {
        "id": "hWdZ1pRFsbab",
        "colab_type": "code",
        "colab": {
          "base_uri": "https://localhost:8080/",
          "height": 247
        },
        "outputId": "75debd01-1fe2-4884-de20-7b368ba988d8"
      },
      "source": [
        "# If we wanted to preview the items that make up our dataset,\n",
        "# alternatively we can do the following\n",
        "# ---\n",
        "# \n",
        "items<-as.data.frame(itemLabels(Transactions))\n",
        "colnames(items) <- \"Item\"\n",
        "head(items, 10)"
      ],
      "execution_count": 11,
      "outputs": [
        {
          "output_type": "display_data",
          "data": {
            "text/plain": [
              "   Item                                  \n",
              "1  &                                     \n",
              "2  accessories                           \n",
              "3  accessories,antioxydant               \n",
              "4  accessories,champagne,fresh           \n",
              "5  accessories,champagne,protein         \n",
              "6  accessories,chocolate                 \n",
              "7  accessories,chocolate,champagne,frozen\n",
              "8  accessories,chocolate,frozen          \n",
              "9  accessories,chocolate,low             \n",
              "10 accessories,chocolate,pasta,salt      "
            ],
            "text/latex": "A data.frame: 10 × 1\n\\begin{tabular}{r|l}\n  & Item\\\\\n  & <fct>\\\\\n\\hline\n\t1 & \\&                                     \\\\\n\t2 & accessories                           \\\\\n\t3 & accessories,antioxydant               \\\\\n\t4 & accessories,champagne,fresh           \\\\\n\t5 & accessories,champagne,protein         \\\\\n\t6 & accessories,chocolate                 \\\\\n\t7 & accessories,chocolate,champagne,frozen\\\\\n\t8 & accessories,chocolate,frozen          \\\\\n\t9 & accessories,chocolate,low             \\\\\n\t10 & accessories,chocolate,pasta,salt      \\\\\n\\end{tabular}\n",
            "text/markdown": "\nA data.frame: 10 × 1\n\n| <!--/--> | Item &lt;fct&gt; |\n|---|---|\n| 1 | &amp;                                      |\n| 2 | accessories                            |\n| 3 | accessories,antioxydant                |\n| 4 | accessories,champagne,fresh            |\n| 5 | accessories,champagne,protein          |\n| 6 | accessories,chocolate                  |\n| 7 | accessories,chocolate,champagne,frozen |\n| 8 | accessories,chocolate,frozen           |\n| 9 | accessories,chocolate,low              |\n| 10 | accessories,chocolate,pasta,salt       |\n\n",
            "text/html": [
              "<table>\n",
              "<caption>A data.frame: 10 × 1</caption>\n",
              "<thead>\n",
              "\t<tr><th></th><th scope=col>Item</th></tr>\n",
              "\t<tr><th></th><th scope=col>&lt;fct&gt;</th></tr>\n",
              "</thead>\n",
              "<tbody>\n",
              "\t<tr><th scope=row>1</th><td><span style=white-space:pre-wrap>&amp;                                     </span></td></tr>\n",
              "\t<tr><th scope=row>2</th><td>accessories                           </td></tr>\n",
              "\t<tr><th scope=row>3</th><td>accessories,antioxydant               </td></tr>\n",
              "\t<tr><th scope=row>4</th><td>accessories,champagne,fresh           </td></tr>\n",
              "\t<tr><th scope=row>5</th><td>accessories,champagne,protein         </td></tr>\n",
              "\t<tr><th scope=row>6</th><td>accessories,chocolate                 </td></tr>\n",
              "\t<tr><th scope=row>7</th><td>accessories,chocolate,champagne,frozen</td></tr>\n",
              "\t<tr><th scope=row>8</th><td>accessories,chocolate,frozen          </td></tr>\n",
              "\t<tr><th scope=row>9</th><td>accessories,chocolate,low             </td></tr>\n",
              "\t<tr><th scope=row>10</th><td>accessories,chocolate,pasta,salt      </td></tr>\n",
              "</tbody>\n",
              "</table>\n"
            ]
          },
          "metadata": {
            "tags": []
          }
        }
      ]
    },
    {
      "cell_type": "code",
      "metadata": {
        "id": "Pms0FYeBsvtS",
        "colab_type": "code",
        "colab": {
          "base_uri": "https://localhost:8080/",
          "height": 390
        },
        "outputId": "0650b0c1-4e29-4f8b-9121-501e8225b6a4"
      },
      "source": [
        "summary(Transactions)"
      ],
      "execution_count": 12,
      "outputs": [
        {
          "output_type": "display_data",
          "data": {
            "text/plain": [
              "transactions as itemMatrix in sparse format with\n",
              " 7501 rows (elements/itemsets/transactions) and\n",
              " 5729 columns (items) and a density of 0.0005421748 \n",
              "\n",
              "most frequent items:\n",
              "    tea   wheat mineral     fat  yogurt (Other) \n",
              "    803     645     577     574     543   20157 \n",
              "\n",
              "element (itemset/transaction) length distribution:\n",
              "sizes\n",
              "   1    2    3    4    5    6    7    8    9   10   11   12   13   15   16 \n",
              "1603 2007 1382  942  651  407  228  151   70   39   13    5    1    1    1 \n",
              "\n",
              "   Min. 1st Qu.  Median    Mean 3rd Qu.    Max. \n",
              "  1.000   2.000   3.000   3.106   4.000  16.000 \n",
              "\n",
              "includes extended item information - examples:\n",
              "                   labels\n",
              "1                       &\n",
              "2             accessories\n",
              "3 accessories,antioxydant"
            ]
          },
          "metadata": {
            "tags": []
          }
        }
      ]
    },
    {
      "cell_type": "code",
      "metadata": {
        "id": "XXoNNbcotFis",
        "colab_type": "code",
        "colab": {
          "base_uri": "https://localhost:8080/",
          "height": 116
        },
        "outputId": "79436199-614f-40e1-d7e2-1130794f2a9d"
      },
      "source": [
        "itemFrequency(Transactions[, 3:10],type = \"absolute\")\n",
        "round(itemFrequency(Transactions[, 3:10],type = \"relative\")*100,2)"
      ],
      "execution_count": 14,
      "outputs": [
        {
          "output_type": "display_data",
          "data": {
            "text/plain": [
              "               accessories,antioxydant            accessories,champagne,fresh \n",
              "                                     1                                      1 \n",
              "         accessories,champagne,protein                  accessories,chocolate \n",
              "                                     1                                      1 \n",
              "accessories,chocolate,champagne,frozen           accessories,chocolate,frozen \n",
              "                                     1                                      1 \n",
              "             accessories,chocolate,low       accessories,chocolate,pasta,salt \n",
              "                                     1                                      1 "
            ],
            "text/latex": "\\begin{description*}\n\\item[accessories,antioxydant] 1\n\\item[accessories,champagne,fresh] 1\n\\item[accessories,champagne,protein] 1\n\\item[accessories,chocolate] 1\n\\item[accessories,chocolate,champagne,frozen] 1\n\\item[accessories,chocolate,frozen] 1\n\\item[accessories,chocolate,low] 1\n\\item[accessories,chocolate,pasta,salt] 1\n\\end{description*}\n",
            "text/markdown": "accessories,antioxydant\n:   1accessories,champagne,fresh\n:   1accessories,champagne,protein\n:   1accessories,chocolate\n:   1accessories,chocolate,champagne,frozen\n:   1accessories,chocolate,frozen\n:   1accessories,chocolate,low\n:   1accessories,chocolate,pasta,salt\n:   1\n\n",
            "text/html": [
              "<style>\n",
              ".dl-inline {width: auto; margin:0; padding: 0}\n",
              ".dl-inline>dt, .dl-inline>dd {float: none; width: auto; display: inline-block}\n",
              ".dl-inline>dt::after {content: \":\\0020\"; padding-right: .5ex}\n",
              ".dl-inline>dt:not(:first-of-type) {padding-left: .5ex}\n",
              "</style><dl class=dl-inline><dt>accessories,antioxydant</dt><dd>1</dd><dt>accessories,champagne,fresh</dt><dd>1</dd><dt>accessories,champagne,protein</dt><dd>1</dd><dt>accessories,chocolate</dt><dd>1</dd><dt>accessories,chocolate,champagne,frozen</dt><dd>1</dd><dt>accessories,chocolate,frozen</dt><dd>1</dd><dt>accessories,chocolate,low</dt><dd>1</dd><dt>accessories,chocolate,pasta,salt</dt><dd>1</dd></dl>\n"
            ]
          },
          "metadata": {
            "tags": []
          }
        },
        {
          "output_type": "display_data",
          "data": {
            "text/plain": [
              "               accessories,antioxydant            accessories,champagne,fresh \n",
              "                                  0.01                                   0.01 \n",
              "         accessories,champagne,protein                  accessories,chocolate \n",
              "                                  0.01                                   0.01 \n",
              "accessories,chocolate,champagne,frozen           accessories,chocolate,frozen \n",
              "                                  0.01                                   0.01 \n",
              "             accessories,chocolate,low       accessories,chocolate,pasta,salt \n",
              "                                  0.01                                   0.01 "
            ],
            "text/latex": "\\begin{description*}\n\\item[accessories,antioxydant] 0.01\n\\item[accessories,champagne,fresh] 0.01\n\\item[accessories,champagne,protein] 0.01\n\\item[accessories,chocolate] 0.01\n\\item[accessories,chocolate,champagne,frozen] 0.01\n\\item[accessories,chocolate,frozen] 0.01\n\\item[accessories,chocolate,low] 0.01\n\\item[accessories,chocolate,pasta,salt] 0.01\n\\end{description*}\n",
            "text/markdown": "accessories,antioxydant\n:   0.01accessories,champagne,fresh\n:   0.01accessories,champagne,protein\n:   0.01accessories,chocolate\n:   0.01accessories,chocolate,champagne,frozen\n:   0.01accessories,chocolate,frozen\n:   0.01accessories,chocolate,low\n:   0.01accessories,chocolate,pasta,salt\n:   0.01\n\n",
            "text/html": [
              "<style>\n",
              ".dl-inline {width: auto; margin:0; padding: 0}\n",
              ".dl-inline>dt, .dl-inline>dd {float: none; width: auto; display: inline-block}\n",
              ".dl-inline>dt::after {content: \":\\0020\"; padding-right: .5ex}\n",
              ".dl-inline>dt:not(:first-of-type) {padding-left: .5ex}\n",
              "</style><dl class=dl-inline><dt>accessories,antioxydant</dt><dd>0.01</dd><dt>accessories,champagne,fresh</dt><dd>0.01</dd><dt>accessories,champagne,protein</dt><dd>0.01</dd><dt>accessories,chocolate</dt><dd>0.01</dd><dt>accessories,chocolate,champagne,frozen</dt><dd>0.01</dd><dt>accessories,chocolate,frozen</dt><dd>0.01</dd><dt>accessories,chocolate,low</dt><dd>0.01</dd><dt>accessories,chocolate,pasta,salt</dt><dd>0.01</dd></dl>\n"
            ]
          },
          "metadata": {
            "tags": []
          }
        }
      ]
    },
    {
      "cell_type": "code",
      "metadata": {
        "id": "gfHx5C28tgJT",
        "colab_type": "code",
        "colab": {
          "base_uri": "https://localhost:8080/",
          "height": 436
        },
        "outputId": "6c981697-2cc1-41e9-e082-f9db8c125f0f"
      },
      "source": [
        "# Displaying top 10 most common items in the transactions dataset \n",
        "# and the items whose relative importance is at least 10%\n",
        "# \n",
        "par(mfrow = c(1, 2))\n",
        "\n",
        "# plot the frequency of items\n",
        "itemFrequencyPlot(Transactions, topN = 10,col=\"yellow\")\n",
        "itemFrequencyPlot(Transactions, support = 0.05,col=\"pink\")"
      ],
      "execution_count": 38,
      "outputs": [
        {
          "output_type": "display_data",
          "data": {
            "image/png": "[encoded data removed]",
            "text/plain": [
              "plot without title"
            ]
          },
          "metadata": {
            "tags": [],
            "image/png": {
              "width": 420,
              "height": 420
            }
          }
        }
      ]
    },
    {
      "cell_type": "code",
      "metadata": {
        "id": "D1o9XAqotxqc",
        "colab_type": "code",
        "colab": {
          "base_uri": "https://localhost:8080/",
          "height": 407
        },
        "outputId": "a3ddb5a4-b06f-46b4-c3d4-c7b6dbcc59f3"
      },
      "source": [
        "rules <- apriori (Transactions, parameter = list(supp = 0.004, conf = 0.8))\n",
        "rules"
      ],
      "execution_count": 40,
      "outputs": [
        {
          "output_type": "stream",
          "text": [
            "Apriori\n",
            "\n",
            "Parameter specification:\n",
            " confidence minval smax arem  aval originalSupport maxtime support minlen\n",
            "        0.8    0.1    1 none FALSE            TRUE       5   0.004      1\n",
            " maxlen target  ext\n",
            "     10  rules TRUE\n",
            "\n",
            "Algorithmic control:\n",
            " filter tree heap memopt load sort verbose\n",
            "    0.1 TRUE TRUE  FALSE TRUE    2    TRUE\n",
            "\n",
            "Absolute minimum support count: 30 \n",
            "\n",
            "set item appearances ...[0 item(s)] done [0.00s].\n",
            "set transactions ...[5729 item(s), 7501 transaction(s)] done [0.01s].\n",
            "sorting and recoding items ... [98 item(s)] done [0.00s].\n",
            "creating transaction tree ... done [0.00s].\n",
            "checking subsets of size 1 2 3 done [0.00s].\n",
            "writing ... [37 rule(s)] done [0.00s].\n",
            "creating S4 object  ... done [0.00s].\n"
          ],
          "name": "stdout"
        },
        {
          "output_type": "display_data",
          "data": {
            "text/plain": [
              "set of 37 rules "
            ]
          },
          "metadata": {
            "tags": []
          }
        }
      ]
    },
    {
      "cell_type": "code",
      "metadata": {
        "id": "BY4onQ_oud6D",
        "colab_type": "code",
        "colab": {
          "base_uri": "https://localhost:8080/",
          "height": 798
        },
        "outputId": "7bb73f48-9491-4bb4-f1c5-fa06d2011576"
      },
      "source": [
        "\n",
        "# Building a apriori model with Min Support as 0.002 and confidence as 0.8.\n",
        "rules2 <- apriori (Transactions,parameter = list(supp = 0.004, conf = 0.8)) \n",
        "\n",
        "# Building apriori model with Min Support as 0.002 and confidence as 0.6.\n",
        "rules3 <- apriori (Transactions, parameter = list(supp = 0.004, conf = 0.6)) \n",
        "\n",
        "rules2\n",
        "\n",
        "rules3\n"
      ],
      "execution_count": 42,
      "outputs": [
        {
          "output_type": "stream",
          "text": [
            "Apriori\n",
            "\n",
            "Parameter specification:\n",
            " confidence minval smax arem  aval originalSupport maxtime support minlen\n",
            "        0.8    0.1    1 none FALSE            TRUE       5   0.004      1\n",
            " maxlen target  ext\n",
            "     10  rules TRUE\n",
            "\n",
            "Algorithmic control:\n",
            " filter tree heap memopt load sort verbose\n",
            "    0.1 TRUE TRUE  FALSE TRUE    2    TRUE\n",
            "\n",
            "Absolute minimum support count: 30 \n",
            "\n",
            "set item appearances ...[0 item(s)] done [0.00s].\n",
            "set transactions ...[5729 item(s), 7501 transaction(s)] done [0.01s].\n",
            "sorting and recoding items ... [98 item(s)] done [0.00s].\n",
            "creating transaction tree ... done [0.00s].\n",
            "checking subsets of size 1 2 3 done [0.00s].\n",
            "writing ... [37 rule(s)] done [0.00s].\n",
            "creating S4 object  ... done [0.00s].\n",
            "Apriori\n",
            "\n",
            "Parameter specification:\n",
            " confidence minval smax arem  aval originalSupport maxtime support minlen\n",
            "        0.6    0.1    1 none FALSE            TRUE       5   0.004      1\n",
            " maxlen target  ext\n",
            "     10  rules TRUE\n",
            "\n",
            "Algorithmic control:\n",
            " filter tree heap memopt load sort verbose\n",
            "    0.1 TRUE TRUE  FALSE TRUE    2    TRUE\n",
            "\n",
            "Absolute minimum support count: 30 \n",
            "\n",
            "set item appearances ...[0 item(s)] done [0.00s].\n",
            "set transactions ...[5729 item(s), 7501 transaction(s)] done [0.01s].\n",
            "sorting and recoding items ... [98 item(s)] done [0.00s].\n",
            "creating transaction tree ... done [0.00s].\n",
            "checking subsets of size 1 2 3 done [0.00s].\n",
            "writing ... [43 rule(s)] done [0.00s].\n",
            "creating S4 object  ... done [0.00s].\n"
          ],
          "name": "stdout"
        },
        {
          "output_type": "display_data",
          "data": {
            "text/plain": [
              "set of 37 rules "
            ]
          },
          "metadata": {
            "tags": []
          }
        },
        {
          "output_type": "display_data",
          "data": {
            "text/plain": [
              "set of 43 rules "
            ]
          },
          "metadata": {
            "tags": []
          }
        }
      ]
    },
    {
      "cell_type": "code",
      "metadata": {
        "id": "Nhn_3teAvX5p",
        "colab_type": "code",
        "colab": {
          "base_uri": "https://localhost:8080/",
          "height": 514
        },
        "outputId": "95e6a020-b3a7-47a2-e25d-47336f2258f0"
      },
      "source": [
        "summary(rules)"
      ],
      "execution_count": 43,
      "outputs": [
        {
          "output_type": "display_data",
          "data": {
            "text/plain": [
              "set of 37 rules\n",
              "\n",
              "rule length distribution (lhs + rhs):sizes\n",
              " 2  3 \n",
              "21 16 \n",
              "\n",
              "   Min. 1st Qu.  Median    Mean 3rd Qu.    Max. \n",
              "  2.000   2.000   2.000   2.432   3.000   3.000 \n",
              "\n",
              "summary of quality measures:\n",
              "    support           confidence        coverage             lift        \n",
              " Min.   :0.004133   Min.   :0.8125   Min.   :0.004266   Min.   :  8.604  \n",
              " 1st Qu.:0.004666   1st Qu.:0.9448   1st Qu.:0.004666   1st Qu.: 11.629  \n",
              " Median :0.005199   Median :1.0000   Median :0.005599   Median : 13.068  \n",
              " Mean   :0.010110   Mean   :0.9704   Mean   :0.010618   Mean   : 22.077  \n",
              " 3rd Qu.:0.006932   3rd Qu.:1.0000   3rd Qu.:0.006932   3rd Qu.: 13.514  \n",
              " Max.   :0.068391   Max.   :1.0000   Max.   :0.076523   Max.   :197.395  \n",
              "     count       \n",
              " Min.   : 31.00  \n",
              " 1st Qu.: 35.00  \n",
              " Median : 39.00  \n",
              " Mean   : 75.84  \n",
              " 3rd Qu.: 52.00  \n",
              " Max.   :513.00  \n",
              "\n",
              "mining info:\n",
              "         data ntransactions support confidence\n",
              " Transactions          7501   0.004        0.8"
            ]
          },
          "metadata": {
            "tags": []
          }
        }
      ]
    },
    {
      "cell_type": "code",
      "metadata": {
        "id": "mlaT6ajCv9Nj",
        "colab_type": "code",
        "colab": {
          "base_uri": "https://localhost:8080/",
          "height": 230
        },
        "outputId": "32f1e53a-553a-4dec-9318-e6acc265695f"
      },
      "source": [
        "\n",
        "inspect(rules[1:5])"
      ],
      "execution_count": 44,
      "outputs": [
        {
          "output_type": "stream",
          "text": [
            "    lhs              rhs      support     confidence coverage    lift     \n",
            "[1] {low}         => {yogurt} 0.005999200 0.9782609  0.006132516 13.513692\n",
            "[2] {low}         => {fat}    0.006132516 1.0000000  0.006132516 13.067944\n",
            "[3] {rice,french} => {wheat}  0.004132782 0.9393939  0.004399413 10.924642\n",
            "[4] {fries,low}   => {fat}    0.004399413 1.0000000  0.004399413 13.067944\n",
            "[5] {bread,green} => {tea}    0.004132782 0.9393939  0.004399413  8.775086\n",
            "    count\n",
            "[1] 45   \n",
            "[2] 46   \n",
            "[3] 31   \n",
            "[4] 33   \n",
            "[5] 31   \n"
          ],
          "name": "stdout"
        }
      ]
    },
    {
      "cell_type": "code",
      "metadata": {
        "id": "ILgRvgvqwzfH",
        "colab_type": "code",
        "colab": {
          "base_uri": "https://localhost:8080/",
          "height": 123
        },
        "outputId": "a9967213-bac5-43e5-f6d5-efb482033b46"
      },
      "source": [
        "rules<-sort(rules, by=\"confidence\", decreasing=TRUE)\n",
        "inspect(rules[1:5])"
      ],
      "execution_count": 45,
      "outputs": [
        {
          "output_type": "stream",
          "text": [
            "    lhs               rhs     support     confidence coverage    lift     count\n",
            "[1] {low}          => {fat}   0.006132516 1          0.006132516 13.06794 46   \n",
            "[2] {fries,low}    => {fat}   0.004399413 1          0.004399413 13.06794 33   \n",
            "[3] {fries,green}  => {tea}   0.006799093 1          0.006799093  9.34122 51   \n",
            "[4] {rice,cooking} => {wheat} 0.004266098 1          0.004266098 11.62946 32   \n",
            "[5] {bread,low}    => {fat}   0.004266098 1          0.004266098 13.06794 32   \n"
          ],
          "name": "stdout"
        }
      ]
    },
    {
      "cell_type": "code",
      "metadata": {
        "id": "Iek44NkPx7sD",
        "colab_type": "code",
        "colab": {
          "base_uri": "https://localhost:8080/",
          "height": 230
        },
        "outputId": "2ca1f5ed-057a-4afb-c9fe-423f706172d4"
      },
      "source": [
        "wheat <- subset(rules, subset = rhs %pin% \"wheat\")\n",
        " \n",
        "# Then order by confidence\n",
        "wheat<-sort(wheat, by=\"confidence\", decreasing=TRUE)\n",
        "inspect(wheat[1:5])"
      ],
      "execution_count": 48,
      "outputs": [
        {
          "output_type": "stream",
          "text": [
            "    lhs                   rhs     support     confidence coverage    lift    \n",
            "[1] {rice,cooking}     => {wheat} 0.004266098 1.0000000  0.004266098 11.62946\n",
            "[2] {water,whole}      => {wheat} 0.005599253 1.0000000  0.005599253 11.62946\n",
            "[3] {pasta,ground}     => {wheat} 0.004532729 1.0000000  0.004532729 11.62946\n",
            "[4] {vegetables,whole} => {wheat} 0.004932676 1.0000000  0.004932676 11.62946\n",
            "[5] {rice}             => {wheat} 0.012265031 0.9583333  0.012798294 11.14490\n",
            "    count\n",
            "[1] 32   \n",
            "[2] 42   \n",
            "[3] 34   \n",
            "[4] 37   \n",
            "[5] 92   \n"
          ],
          "name": "stdout"
        }
      ]
    },
    {
      "cell_type": "code",
      "metadata": {
        "id": "Sx1f3vYyy4nD",
        "colab_type": "code",
        "colab": {}
      },
      "source": [
        ""
      ],
      "execution_count": 51,
      "outputs": []
    }
  ]
}